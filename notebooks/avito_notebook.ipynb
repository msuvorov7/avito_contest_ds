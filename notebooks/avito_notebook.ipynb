{
 "cells": [
  {
   "cell_type": "code",
   "execution_count": 1,
   "metadata": {
    "id": "O5Mf7pjgdMf4"
   },
   "outputs": [],
   "source": [
    "import pandas as pd\n",
    "import numpy as np\n",
    "import matplotlib.pyplot as plt\n",
    "from sklearn.metrics import roc_auc_score"
   ]
  },
  {
   "cell_type": "code",
   "execution_count": 2,
   "metadata": {
    "id": "ni-2Uha2eYhG"
   },
   "outputs": [],
   "source": [
    "import nltk\n",
    "from nltk.corpus import stopwords\n",
    "from nltk.tokenize import RegexpTokenizer\n",
    "from nltk.stem import WordNetLemmatizer\n",
    "from nltk.stem import PorterStemmer\n",
    "import string\n",
    "import re"
   ]
  },
  {
   "cell_type": "code",
   "execution_count": 3,
   "metadata": {
    "id": "q0L3UiQiAJDf"
   },
   "outputs": [],
   "source": [
    "from sklearn.feature_extraction.text import CountVectorizer, TfidfVectorizer\n",
    "from sklearn.model_selection import train_test_split"
   ]
  },
  {
   "cell_type": "code",
   "execution_count": 4,
   "metadata": {
    "id": "Bk1QfaQXe1uP"
   },
   "outputs": [],
   "source": [
    "# !pip install pymorphy2"
   ]
  },
  {
   "cell_type": "code",
   "execution_count": 6,
   "metadata": {
    "colab": {
     "base_uri": "https://localhost:8080/"
    },
    "id": "n3ciVo0oeMOf",
    "outputId": "b652f202-312c-46de-8146-2ef6905244a1"
   },
   "outputs": [
    {
     "data": {
      "text/plain": [
       "(926439, 9)"
      ]
     },
     "execution_count": 6,
     "metadata": {},
     "output_type": "execute_result"
    }
   ],
   "source": [
    "df = pd.read_csv('train.csv')\n",
    "df.dropna(inplace=True)\n",
    "df.shape"
   ]
  },
  {
   "cell_type": "code",
   "execution_count": 11,
   "metadata": {
    "id": "TIDRkfGR6tVx"
   },
   "outputs": [],
   "source": [
    "from sklearn.preprocessing import OrdinalEncoder"
   ]
  },
  {
   "cell_type": "code",
   "execution_count": 13,
   "metadata": {
    "id": "2iN14P-Te-0h"
   },
   "outputs": [],
   "source": [
    "# import pymorphy2\n",
    "# morphy = pymorphy2.MorphAnalyzer()"
   ]
  },
  {
   "cell_type": "code",
   "execution_count": 14,
   "metadata": {
    "id": "MB9iPEdeedRe"
   },
   "outputs": [],
   "source": [
    "def remove_punctuation(text):\n",
    "    punc = '!\"&\\'*,;<=>?[\\\\]^_`{|}~'\n",
    "    no_punc = \"\".join([c for c in text if c not in punc])\n",
    "    return no_punc\n",
    "\n",
    "# tokenizer = RegexpTokenizer(r'\\w+')\n",
    "pattern = r'''(?x)          # set flag to allow verbose regexps\n",
    "        (?:[A-Z]\\.)+        # abbreviations, e.g. U.S.A.\n",
    "      | \\w+(?:-\\w+)*        # words with optional internal hyphens\n",
    "      | \\$?\\d+(?:\\.\\d+)?%?  # currency and percentages, e.g. $12.40, 82%\n",
    "      | \\.\\.\\.              # ellipsis\n",
    "      | [][.,;\"'?():_`-]    # these are separate tokens; includes ], [\n",
    "    '''\n",
    "tokenizer = RegexpTokenizer(pattern)\n",
    "\n",
    "\n",
    "stopword = ['и', 'в', 'во', 'что', 'он', 'на', 'я', 'с', 'со', \n",
    "            'как', 'а', 'то', 'все', 'она', 'так', 'его', 'но', 'да',\n",
    "            'ты', 'к', 'у', 'же', 'вы', 'за', 'бы', 'по', 'только', 'ее',\n",
    "            'мне', 'было', 'вот', 'от', 'меня', 'еще', 'нет', 'о', 'из',\n",
    "            'ему', 'теперь', 'когда', 'даже', 'ну', 'вдруг', 'ли', 'если',\n",
    "            'уже', 'или', 'ни', 'быть', 'был', 'него', 'до', 'вас', 'нибудь',\n",
    "            'опять', 'уж', 'вам', 'ведь', 'там', 'потом', 'себя', 'ничего',\n",
    "            'ей', 'может', 'они', 'тут', 'где', 'есть', 'надо', 'ней', 'для',\n",
    "            'мы', 'тебя', 'их', 'чем', 'была', 'сам', 'чтоб', 'без', 'будто',\n",
    "            'чего', 'раз', 'тоже', 'себе', 'под', 'будет', 'ж', 'тогда',\n",
    "            'кто', 'этот', 'того', 'потому', 'этого', 'какой', 'совсем',\n",
    "            'ним', 'здесь', 'этом', 'почти', 'мой', 'тем', 'чтобы', 'нее',\n",
    "            'сейчас', 'были', 'куда', 'зачем', 'всех', 'никогда', 'можно', 'при',\n",
    "            'наконец', 'об', 'другой', 'хоть', 'после', 'над', 'больше', 'тот',\n",
    "            'через', 'эти', 'нас', 'про', 'всего', 'них', 'какая', 'много', 'разве', \n",
    "            'эту', 'моя', 'впрочем', 'хорошо', 'свою', 'этой', 'перед', 'иногда',\n",
    "            'лучше', 'чуть', 'том', 'нельзя', 'такой', 'им', 'более', 'всегда',\n",
    "            'конечно', 'всю', 'между']\n",
    "\n",
    "def remove_stopwords(text):\n",
    "    words = [w for w in text if w not in stopword]\n",
    "    return words\n",
    "\n",
    "def lemmatize(x):\n",
    "  result = []\n",
    "  for i in x:\n",
    "    result.append(morphy.parse(i)[0].normal_form)\n",
    "  # print(x)\n",
    "  return result\n",
    "\n",
    "def concat_str(x):\n",
    "    return \" \".join([i for i in x])\n",
    "\n",
    "def text_clean(text):\n",
    "#     text = re.sub(r'^https?:\\/\\/.*[\\r\\n]*', '', text, flags=re.MULTILINE)\n",
    "    # text = re.sub('<.*?>+', '', text) # tags ?\n",
    "    regrex_pattern = re.compile(pattern = \"[\"\n",
    "        u\"\\U0001F600-\\U0001F64F\"  # emoticons\n",
    "        # u\"\\U0001F300-\\U0001F5FF\"  # symbols & pictographs\n",
    "        u\"\\U0001F680-\\U0001F6FF\"  # transport & map symbols\n",
    "        # u\"\\U0001F1E0-\\U0001F1FF\"  # flags (iOS)\n",
    "                           \"]+\", flags = re.UNICODE)\n",
    "    text = regrex_pattern.sub(r'',text)\n",
    "#     text = ''.join([i for i in text if not i.isdigit()])\n",
    "    return text\n"
   ]
  },
  {
   "cell_type": "code",
   "execution_count": 15,
   "metadata": {
    "id": "YTdo7D4DAJIs"
   },
   "outputs": [],
   "source": [
    "def preprocessing(df):\n",
    "    df.datetime_submitted = pd.to_datetime(df['datetime_submitted'])\n",
    "    df['hour'] = df['datetime_submitted'].dt.hour\n",
    "    df.description = df.description.apply(lambda x: remove_punctuation(x))\n",
    "    df.description = df.description.apply(lambda x: tokenizer.tokenize(x.lower()))\n",
    "    df.description = df.description.apply(lambda x: remove_stopwords(x))\n",
    "    # df.description = df.description.apply(lambda x: lemmatize(x))\n",
    "    df.description = df.description.apply(lambda x: concat_str(x))\n",
    "    df.description = df.description.apply(lambda x: text_clean(x))\n",
    "    df[\"descr_len\"] = df.description.apply(lambda x: len(x))\n",
    "    df[\"descr_count_7\"] = df.description.apply(lambda x: x.count(\"7\"))\n",
    "    df[\"descr_count_+7\"] = df.description.apply(lambda x: x.count(\"+7\"))\n",
    "    df[\"title_count_numb\"] = df.title.apply(lambda x: len(re.findall(r\"\\d\", x)))\n",
    "    df[\"descr_count_numb\"] = df.description.apply(lambda x: len(re.findall(r\"\\d\", x)))\n",
    "    df[\"title_len\"] = df.title.apply(lambda x: len(x))\n",
    "    regex_phone = r\"([8-9]\\d{7,10})|(\\+7\\d{7,10})|((\\d.){8,11})|(\\+7 \\d{3})|(8[(-]\\d{3})|(89 )|([8-9] \\d)|(\\+7\\()|(\\+7 \\()|(\\d{2}[(-]\\d{2})\" #|(\\d{2}[(-]\\d{2})|([9]\\d.{5})\"\n",
    "    regex_mess = r\"(inst :)|(instagram :)|(vk :)|(discord :)|(телеграм)|(telegram)|(whats app)|(what's app)|(whatsapp)|(вацап)|(вотсап)|(ватсап)|(ват сап)|(viber)|(вайбер)|(тел :)|(телефон :)|(мтс)|(мегафон)\"\n",
    "    regex_email = r\"(http)|(https)|(@mail)|(@gmail)|(@yandex)|(@ya)|(\\.com)|(.ru)|(www)\" #(\\.ru)|(\\.ру)\n",
    "    regex_mobile = r'(\\+?[7,8].*\\d{3}.*\\d{3}.*\\d{2}.*\\d{2})|([9]\\d{2}.*\\d{3}.*\\d{2}.*\\d{2})'\n",
    "    df[\"regex_mobile_descr\"]  = [1 if i == True else 0 for i in df.description.str.contains(regex_mobile).fillna(False)]\n",
    "    # email = r\"[\\w\\.-]+@[\\w\\.-]+(\\.[\\w]+)\"\n",
    "    df[\"regex_phone_descr\"] = [1 if i == True else 0 for i in df.description.str.contains(regex_phone).fillna(False)]\n",
    "    df[\"regex_email_descr\"] = [1 if i == True else 0 for i in df.description.str.contains(regex_email).fillna(False)]\n",
    "    df[\"regex_mess_descr\"]  = [1 if i == True else 0 for i in df.description.str.contains(regex_mess).fillna(False)]\n",
    "    # df[\"email_descr\"]       = [1 if i == True else 0 for i in df.description.str.contains(email).fillna(False)]\n",
    "    df[\"regex_phone_title\"] = [1 if i == True else 0 for i in df.title.str.contains(regex_phone).fillna(False)]\n",
    "    df[\"regex_email_title\"] = [1 if i == True else 0 for i in df.title.str.contains(regex_email).fillna(False)]\n",
    "    df[\"regex_mess_title\"]  = [1 if i == True else 0 for i in df.title.str.contains(regex_mess).fillna(False)]\n",
    "    df[\"messenger\"] = (df.regex_phone_descr & df.regex_mess_descr)\n",
    "    df = df.drop([\"title\", \"datetime_submitted\"], axis=1)\n",
    "    # df['category'] = df['category'].apply(lambda x: hash(x) % 10000007)\n",
    "    # df['subcategory'] = df['subcategory'].apply(lambda x: hash(x) % 10000007)\n",
    "    df['region'] = df['region'].apply(lambda x: hash(x) % 10000007)\n",
    "    df['city'] = df['city'].apply(lambda x: hash(x) % 10000007)\n",
    "  \n",
    "    return df"
   ]
  },
  {
   "cell_type": "code",
   "execution_count": 17,
   "metadata": {
    "colab": {
     "base_uri": "https://localhost:8080/",
     "height": 293
    },
    "id": "M5O4ZmqbMYtX",
    "outputId": "441337df-9547-4d63-801a-531ee7d4fb40"
   },
   "outputs": [
    {
     "data": {
      "text/html": [
       "<div>\n",
       "<style scoped>\n",
       "    .dataframe tbody tr th:only-of-type {\n",
       "        vertical-align: middle;\n",
       "    }\n",
       "\n",
       "    .dataframe tbody tr th {\n",
       "        vertical-align: top;\n",
       "    }\n",
       "\n",
       "    .dataframe thead th {\n",
       "        text-align: right;\n",
       "    }\n",
       "</style>\n",
       "<table border=\"1\" class=\"dataframe\">\n",
       "  <thead>\n",
       "    <tr style=\"text-align: right;\">\n",
       "      <th></th>\n",
       "      <th>title</th>\n",
       "      <th>description</th>\n",
       "      <th>subcategory</th>\n",
       "      <th>category</th>\n",
       "      <th>price</th>\n",
       "      <th>region</th>\n",
       "      <th>city</th>\n",
       "      <th>datetime_submitted</th>\n",
       "      <th>is_bad</th>\n",
       "    </tr>\n",
       "  </thead>\n",
       "  <tbody>\n",
       "    <tr>\n",
       "      <th>2</th>\n",
       "      <td>Дешёвый буст аккаунтов Dota 4</td>\n",
       "      <td>! Буст аккаунтов с ммр выше 1000ммр не беру ! ...</td>\n",
       "      <td>Предложение услуг</td>\n",
       "      <td>Услуги</td>\n",
       "      <td>200.0</td>\n",
       "      <td>Северная Осетия</td>\n",
       "      <td>Владикавказ</td>\n",
       "      <td>2019-06-01 00:00:50.249692</td>\n",
       "      <td>1</td>\n",
       "    </tr>\n",
       "    <tr>\n",
       "      <th>3</th>\n",
       "      <td>Телевизор sharp.Смарт тв.Интернет</td>\n",
       "      <td>Продам телевизор . Диагональ 450.наличие входа...</td>\n",
       "      <td>Аудио и видео</td>\n",
       "      <td>Бытовая электроника</td>\n",
       "      <td>25000.0</td>\n",
       "      <td>Калининградская область</td>\n",
       "      <td>Советск</td>\n",
       "      <td>2019-06-01 00:00:50.325799</td>\n",
       "      <td>1</td>\n",
       "    </tr>\n",
       "    <tr>\n",
       "      <th>5</th>\n",
       "      <td>Зимние шины Hankook Winter i*Pike RS6 W569</td>\n",
       "      <td>Размеры шин Hankook Winter i*Pike RS1 W319. Пр...</td>\n",
       "      <td>Запчасти и аксессуары</td>\n",
       "      <td>Транспорт</td>\n",
       "      <td>11000.0</td>\n",
       "      <td>Московская область</td>\n",
       "      <td>Железнодорожный</td>\n",
       "      <td>2019-06-01 00:01:03.471366</td>\n",
       "      <td>1</td>\n",
       "    </tr>\n",
       "    <tr>\n",
       "      <th>6</th>\n",
       "      <td>LADA Priora, 5046</td>\n",
       "      <td>приора 918 норма+кондинционер. 014 машина 16 в...</td>\n",
       "      <td>Автомобили</td>\n",
       "      <td>Транспорт</td>\n",
       "      <td>340000.0</td>\n",
       "      <td>Чеченская Республика</td>\n",
       "      <td>Грозный</td>\n",
       "      <td>2019-06-01 00:01:13.603386</td>\n",
       "      <td>1</td>\n",
       "    </tr>\n",
       "    <tr>\n",
       "      <th>10</th>\n",
       "      <td>Окрашивание элемента 1000,автосервис,сто</td>\n",
       "      <td>АВТОСЕРВИС \"ВИКИНГ\"/\\n-ОКРАШИВАНИЕ ЭЛЕМЕНТА от...</td>\n",
       "      <td>Предложение услуг</td>\n",
       "      <td>Услуги</td>\n",
       "      <td>1000.0</td>\n",
       "      <td>Россия</td>\n",
       "      <td>Санкт-Петербург</td>\n",
       "      <td>2019-06-01 00:02:35.822686</td>\n",
       "      <td>1</td>\n",
       "    </tr>\n",
       "  </tbody>\n",
       "</table>\n",
       "</div>"
      ],
      "text/plain": [
       "                                         title  ... is_bad\n",
       "2                Дешёвый буст аккаунтов Dota 4  ...      1\n",
       "3            Телевизор sharp.Смарт тв.Интернет  ...      1\n",
       "5   Зимние шины Hankook Winter i*Pike RS6 W569  ...      1\n",
       "6                            LADA Priora, 5046  ...      1\n",
       "10    Окрашивание элемента 1000,автосервис,сто  ...      1\n",
       "\n",
       "[5 rows x 9 columns]"
      ]
     },
     "execution_count": 17,
     "metadata": {},
     "output_type": "execute_result"
    }
   ],
   "source": [
    "df[df.is_bad==1].head()"
   ]
  },
  {
   "cell_type": "code",
   "execution_count": 19,
   "metadata": {
    "id": "-eENYwPa1EP2"
   },
   "outputs": [],
   "source": [
    "# df.subcategory.value_counts()"
   ]
  },
  {
   "cell_type": "code",
   "execution_count": 20,
   "metadata": {
    "colab": {
     "base_uri": "https://localhost:8080/"
    },
    "id": "c15jwTHvCwe1",
    "outputId": "48846cbc-5205-49a7-b83a-1b614b22df14"
   },
   "outputs": [
    {
     "name": "stderr",
     "output_type": "stream",
     "text": [
      "/usr/local/lib/python3.7/dist-packages/pandas/core/strings.py:2001: UserWarning: This pattern has match groups. To actually get the groups, use str.extract.\n",
      "  return func(self, *args, **kwargs)\n"
     ]
    },
    {
     "name": "stdout",
     "output_type": "stream",
     "text": [
      "CPU times: user 11min 38s, sys: 6.17 s, total: 11min 44s\n",
      "Wall time: 11min 45s\n"
     ]
    }
   ],
   "source": [
    "%%time\n",
    "# dff = df.pipe(create_features_and_preproc)\n",
    "# df = work.iloc[5:8,:]\n",
    "df = df.pipe(preprocessing)"
   ]
  },
  {
   "cell_type": "code",
   "execution_count": 21,
   "metadata": {
    "colab": {
     "base_uri": "https://localhost:8080/",
     "height": 660
    },
    "id": "Rk_3D_IQU6ZK",
    "outputId": "e79abe64-b9f7-4419-d033-559959f26550"
   },
   "outputs": [
    {
     "data": {
      "text/html": [
       "<div>\n",
       "<style scoped>\n",
       "    .dataframe tbody tr th:only-of-type {\n",
       "        vertical-align: middle;\n",
       "    }\n",
       "\n",
       "    .dataframe tbody tr th {\n",
       "        vertical-align: top;\n",
       "    }\n",
       "\n",
       "    .dataframe thead th {\n",
       "        text-align: right;\n",
       "    }\n",
       "</style>\n",
       "<table border=\"1\" class=\"dataframe\">\n",
       "  <thead>\n",
       "    <tr style=\"text-align: right;\">\n",
       "      <th></th>\n",
       "      <th>description</th>\n",
       "      <th>subcategory</th>\n",
       "      <th>category</th>\n",
       "      <th>price</th>\n",
       "      <th>region</th>\n",
       "      <th>city</th>\n",
       "      <th>is_bad</th>\n",
       "      <th>hour</th>\n",
       "      <th>descr_len</th>\n",
       "      <th>descr_count_7</th>\n",
       "      <th>descr_count_+7</th>\n",
       "      <th>title_count_numb</th>\n",
       "      <th>descr_count_numb</th>\n",
       "      <th>title_len</th>\n",
       "      <th>regex_mobile_descr</th>\n",
       "      <th>regex_phone_descr</th>\n",
       "      <th>regex_email_descr</th>\n",
       "      <th>regex_mess_descr</th>\n",
       "      <th>regex_phone_title</th>\n",
       "      <th>regex_email_title</th>\n",
       "      <th>regex_mess_title</th>\n",
       "      <th>messenger</th>\n",
       "    </tr>\n",
       "  </thead>\n",
       "  <tbody>\n",
       "    <tr>\n",
       "      <th>0</th>\n",
       "      <td>продаем диван-кровать . удобный механизм - евр...</td>\n",
       "      <td>Мебель и интерьер</td>\n",
       "      <td>Для дома и дачи</td>\n",
       "      <td>7000.0</td>\n",
       "      <td>777640</td>\n",
       "      <td>5679679</td>\n",
       "      <td>0</td>\n",
       "      <td>0</td>\n",
       "      <td>239</td>\n",
       "      <td>0</td>\n",
       "      <td>0</td>\n",
       "      <td>0</td>\n",
       "      <td>6</td>\n",
       "      <td>13</td>\n",
       "      <td>0</td>\n",
       "      <td>1</td>\n",
       "      <td>0</td>\n",
       "      <td>0</td>\n",
       "      <td>0</td>\n",
       "      <td>0</td>\n",
       "      <td>0</td>\n",
       "      <td>0</td>\n",
       "    </tr>\n",
       "    <tr>\n",
       "      <th>1</th>\n",
       "      <td>кожух рулевой колонки daf xf 94 ( 60066004 ) а...</td>\n",
       "      <td>Запчасти и аксессуары</td>\n",
       "      <td>Транспорт</td>\n",
       "      <td>2290.0</td>\n",
       "      <td>777640</td>\n",
       "      <td>5679679</td>\n",
       "      <td>0</td>\n",
       "      <td>0</td>\n",
       "      <td>611</td>\n",
       "      <td>0</td>\n",
       "      <td>0</td>\n",
       "      <td>9</td>\n",
       "      <td>25</td>\n",
       "      <td>39</td>\n",
       "      <td>0</td>\n",
       "      <td>0</td>\n",
       "      <td>0</td>\n",
       "      <td>0</td>\n",
       "      <td>0</td>\n",
       "      <td>0</td>\n",
       "      <td>0</td>\n",
       "      <td>0</td>\n",
       "    </tr>\n",
       "    <tr>\n",
       "      <th>2</th>\n",
       "      <td>буст аккаунтов ммр выше 1000ммр не беру отвечу...</td>\n",
       "      <td>Предложение услуг</td>\n",
       "      <td>Услуги</td>\n",
       "      <td>200.0</td>\n",
       "      <td>7126895</td>\n",
       "      <td>5419156</td>\n",
       "      <td>1</td>\n",
       "      <td>0</td>\n",
       "      <td>200</td>\n",
       "      <td>2</td>\n",
       "      <td>0</td>\n",
       "      <td>1</td>\n",
       "      <td>18</td>\n",
       "      <td>29</td>\n",
       "      <td>0</td>\n",
       "      <td>0</td>\n",
       "      <td>0</td>\n",
       "      <td>0</td>\n",
       "      <td>0</td>\n",
       "      <td>0</td>\n",
       "      <td>0</td>\n",
       "      <td>0</td>\n",
       "    </tr>\n",
       "    <tr>\n",
       "      <th>3</th>\n",
       "      <td>продам телевизор . диагональ 450 . наличие вхо...</td>\n",
       "      <td>Аудио и видео</td>\n",
       "      <td>Бытовая электроника</td>\n",
       "      <td>25000.0</td>\n",
       "      <td>1694001</td>\n",
       "      <td>3965682</td>\n",
       "      <td>1</td>\n",
       "      <td>0</td>\n",
       "      <td>455</td>\n",
       "      <td>0</td>\n",
       "      <td>0</td>\n",
       "      <td>0</td>\n",
       "      <td>3</td>\n",
       "      <td>33</td>\n",
       "      <td>0</td>\n",
       "      <td>0</td>\n",
       "      <td>0</td>\n",
       "      <td>0</td>\n",
       "      <td>0</td>\n",
       "      <td>0</td>\n",
       "      <td>0</td>\n",
       "      <td>0</td>\n",
       "    </tr>\n",
       "    <tr>\n",
       "      <th>4</th>\n",
       "      <td>открытки-конверты ручной работы выполнены техн...</td>\n",
       "      <td>Коллекционирование</td>\n",
       "      <td>Хобби и отдых</td>\n",
       "      <td>150.0</td>\n",
       "      <td>7350129</td>\n",
       "      <td>3420332</td>\n",
       "      <td>0</td>\n",
       "      <td>0</td>\n",
       "      <td>61</td>\n",
       "      <td>0</td>\n",
       "      <td>0</td>\n",
       "      <td>0</td>\n",
       "      <td>0</td>\n",
       "      <td>16</td>\n",
       "      <td>0</td>\n",
       "      <td>0</td>\n",
       "      <td>0</td>\n",
       "      <td>0</td>\n",
       "      <td>0</td>\n",
       "      <td>0</td>\n",
       "      <td>0</td>\n",
       "      <td>0</td>\n",
       "    </tr>\n",
       "  </tbody>\n",
       "</table>\n",
       "</div>"
      ],
      "text/plain": [
       "                                         description  ... messenger\n",
       "0  продаем диван-кровать . удобный механизм - евр...  ...         0\n",
       "1  кожух рулевой колонки daf xf 94 ( 60066004 ) а...  ...         0\n",
       "2  буст аккаунтов ммр выше 1000ммр не беру отвечу...  ...         0\n",
       "3  продам телевизор . диагональ 450 . наличие вхо...  ...         0\n",
       "4  открытки-конверты ручной работы выполнены техн...  ...         0\n",
       "\n",
       "[5 rows x 22 columns]"
      ]
     },
     "execution_count": 21,
     "metadata": {},
     "output_type": "execute_result"
    }
   ],
   "source": [
    "df.head()"
   ]
  },
  {
   "cell_type": "code",
   "execution_count": 22,
   "metadata": {
    "id": "LY3KvF93dfJJ"
   },
   "outputs": [],
   "source": [
    "ordinal_enc = OrdinalEncoder()\n",
    "# df[['category', 'subcategory', 'region', 'city']] = ordinal_enc.fit_transform(df[['category', 'subcategory', 'region', 'city']])\n",
    "df[['category', 'subcategory']] = ordinal_enc.fit_transform(df[['category', 'subcategory']])"
   ]
  },
  {
   "cell_type": "code",
   "execution_count": 23,
   "metadata": {
    "colab": {
     "base_uri": "https://localhost:8080/",
     "height": 660
    },
    "id": "ykDzjLu8MCTw",
    "outputId": "a60bc073-9f9b-4ca9-e4a2-476ed15b0026"
   },
   "outputs": [
    {
     "data": {
      "text/html": [
       "<div>\n",
       "<style scoped>\n",
       "    .dataframe tbody tr th:only-of-type {\n",
       "        vertical-align: middle;\n",
       "    }\n",
       "\n",
       "    .dataframe tbody tr th {\n",
       "        vertical-align: top;\n",
       "    }\n",
       "\n",
       "    .dataframe thead th {\n",
       "        text-align: right;\n",
       "    }\n",
       "</style>\n",
       "<table border=\"1\" class=\"dataframe\">\n",
       "  <thead>\n",
       "    <tr style=\"text-align: right;\">\n",
       "      <th></th>\n",
       "      <th>description</th>\n",
       "      <th>subcategory</th>\n",
       "      <th>category</th>\n",
       "      <th>price</th>\n",
       "      <th>region</th>\n",
       "      <th>city</th>\n",
       "      <th>is_bad</th>\n",
       "      <th>hour</th>\n",
       "      <th>descr_len</th>\n",
       "      <th>descr_count_7</th>\n",
       "      <th>descr_count_+7</th>\n",
       "      <th>title_count_numb</th>\n",
       "      <th>descr_count_numb</th>\n",
       "      <th>title_len</th>\n",
       "      <th>regex_mobile_descr</th>\n",
       "      <th>regex_phone_descr</th>\n",
       "      <th>regex_email_descr</th>\n",
       "      <th>regex_mess_descr</th>\n",
       "      <th>regex_phone_title</th>\n",
       "      <th>regex_email_title</th>\n",
       "      <th>regex_mess_title</th>\n",
       "      <th>messenger</th>\n",
       "    </tr>\n",
       "  </thead>\n",
       "  <tbody>\n",
       "    <tr>\n",
       "      <th>0</th>\n",
       "      <td>продаем диван-кровать . удобный механизм - евр...</td>\n",
       "      <td>24.0</td>\n",
       "      <td>2.0</td>\n",
       "      <td>7000.0</td>\n",
       "      <td>777640</td>\n",
       "      <td>5679679</td>\n",
       "      <td>0</td>\n",
       "      <td>0</td>\n",
       "      <td>239</td>\n",
       "      <td>0</td>\n",
       "      <td>0</td>\n",
       "      <td>0</td>\n",
       "      <td>6</td>\n",
       "      <td>13</td>\n",
       "      <td>0</td>\n",
       "      <td>1</td>\n",
       "      <td>0</td>\n",
       "      <td>0</td>\n",
       "      <td>0</td>\n",
       "      <td>0</td>\n",
       "      <td>0</td>\n",
       "      <td>0</td>\n",
       "    </tr>\n",
       "    <tr>\n",
       "      <th>1</th>\n",
       "      <td>кожух рулевой колонки daf xf 94 ( 60066004 ) а...</td>\n",
       "      <td>14.0</td>\n",
       "      <td>7.0</td>\n",
       "      <td>2290.0</td>\n",
       "      <td>777640</td>\n",
       "      <td>5679679</td>\n",
       "      <td>0</td>\n",
       "      <td>0</td>\n",
       "      <td>611</td>\n",
       "      <td>0</td>\n",
       "      <td>0</td>\n",
       "      <td>9</td>\n",
       "      <td>25</td>\n",
       "      <td>39</td>\n",
       "      <td>0</td>\n",
       "      <td>0</td>\n",
       "      <td>0</td>\n",
       "      <td>0</td>\n",
       "      <td>0</td>\n",
       "      <td>0</td>\n",
       "      <td>0</td>\n",
       "      <td>0</td>\n",
       "    </tr>\n",
       "    <tr>\n",
       "      <th>2</th>\n",
       "      <td>буст аккаунтов ммр выше 1000ммр не беру отвечу...</td>\n",
       "      <td>36.0</td>\n",
       "      <td>8.0</td>\n",
       "      <td>200.0</td>\n",
       "      <td>7126895</td>\n",
       "      <td>5419156</td>\n",
       "      <td>1</td>\n",
       "      <td>0</td>\n",
       "      <td>200</td>\n",
       "      <td>2</td>\n",
       "      <td>0</td>\n",
       "      <td>1</td>\n",
       "      <td>18</td>\n",
       "      <td>29</td>\n",
       "      <td>0</td>\n",
       "      <td>0</td>\n",
       "      <td>0</td>\n",
       "      <td>0</td>\n",
       "      <td>0</td>\n",
       "      <td>0</td>\n",
       "      <td>0</td>\n",
       "      <td>0</td>\n",
       "    </tr>\n",
       "    <tr>\n",
       "      <th>3</th>\n",
       "      <td>продам телевизор . диагональ 450 . наличие вхо...</td>\n",
       "      <td>2.0</td>\n",
       "      <td>0.0</td>\n",
       "      <td>25000.0</td>\n",
       "      <td>1694001</td>\n",
       "      <td>3965682</td>\n",
       "      <td>1</td>\n",
       "      <td>0</td>\n",
       "      <td>455</td>\n",
       "      <td>0</td>\n",
       "      <td>0</td>\n",
       "      <td>0</td>\n",
       "      <td>3</td>\n",
       "      <td>33</td>\n",
       "      <td>0</td>\n",
       "      <td>0</td>\n",
       "      <td>0</td>\n",
       "      <td>0</td>\n",
       "      <td>0</td>\n",
       "      <td>0</td>\n",
       "      <td>0</td>\n",
       "      <td>0</td>\n",
       "    </tr>\n",
       "    <tr>\n",
       "      <th>4</th>\n",
       "      <td>открытки-конверты ручной работы выполнены техн...</td>\n",
       "      <td>19.0</td>\n",
       "      <td>9.0</td>\n",
       "      <td>150.0</td>\n",
       "      <td>7350129</td>\n",
       "      <td>3420332</td>\n",
       "      <td>0</td>\n",
       "      <td>0</td>\n",
       "      <td>61</td>\n",
       "      <td>0</td>\n",
       "      <td>0</td>\n",
       "      <td>0</td>\n",
       "      <td>0</td>\n",
       "      <td>16</td>\n",
       "      <td>0</td>\n",
       "      <td>0</td>\n",
       "      <td>0</td>\n",
       "      <td>0</td>\n",
       "      <td>0</td>\n",
       "      <td>0</td>\n",
       "      <td>0</td>\n",
       "      <td>0</td>\n",
       "    </tr>\n",
       "  </tbody>\n",
       "</table>\n",
       "</div>"
      ],
      "text/plain": [
       "                                         description  ...  messenger\n",
       "0  продаем диван-кровать . удобный механизм - евр...  ...          0\n",
       "1  кожух рулевой колонки daf xf 94 ( 60066004 ) а...  ...          0\n",
       "2  буст аккаунтов ммр выше 1000ммр не беру отвечу...  ...          0\n",
       "3  продам телевизор . диагональ 450 . наличие вхо...  ...          0\n",
       "4  открытки-конверты ручной работы выполнены техн...  ...          0\n",
       "\n",
       "[5 rows x 22 columns]"
      ]
     },
     "execution_count": 23,
     "metadata": {},
     "output_type": "execute_result"
    }
   ],
   "source": [
    "df.head()"
   ]
  },
  {
   "cell_type": "code",
   "execution_count": 24,
   "metadata": {
    "colab": {
     "base_uri": "https://localhost:8080/",
     "height": 35
    },
    "id": "8l-2C_2mBRHd",
    "outputId": "7dedcdfb-0d5f-4199-849e-b6db4d9ec27a"
   },
   "outputs": [
    {
     "data": {
      "application/vnd.google.colaboratory.intrinsic+json": {
       "type": "string"
      },
      "text/plain": [
       "'открытки-конверты ручной работы выполнены технике скрапбукинг'"
      ]
     },
     "execution_count": 24,
     "metadata": {},
     "output_type": "execute_result"
    }
   ],
   "source": [
    "df[df.is_bad == 0].description.iloc[2]"
   ]
  },
  {
   "cell_type": "code",
   "execution_count": 26,
   "metadata": {
    "id": "dKRu7hbthwQc"
   },
   "outputs": [],
   "source": [
    "tf_vectorizer = TfidfVectorizer(max_features=700)\n",
    "# tf_vectorizer = CountVectorizer(max_features=500)"
   ]
  },
  {
   "cell_type": "code",
   "execution_count": 27,
   "metadata": {
    "colab": {
     "base_uri": "https://localhost:8080/"
    },
    "id": "UHDR9tYoi7AB",
    "outputId": "3af4114d-3359-487a-8aa7-629b2137b1e8"
   },
   "outputs": [
    {
     "name": "stdout",
     "output_type": "stream",
     "text": [
      "CPU times: user 1min 15s, sys: 1 s, total: 1min 16s\n",
      "Wall time: 1min 16s\n"
     ]
    }
   ],
   "source": [
    "%%time\n",
    "df_descr_tfidf = tf_vectorizer.fit_transform(df.description)"
   ]
  },
  {
   "cell_type": "code",
   "execution_count": 28,
   "metadata": {
    "id": "inKoyyuTjjXd"
   },
   "outputs": [],
   "source": [
    "from sklearn.decomposition import TruncatedSVD\n",
    "from xgboost import XGBClassifier\n",
    "from lightgbm import LGBMClassifier"
   ]
  },
  {
   "cell_type": "code",
   "execution_count": 29,
   "metadata": {
    "colab": {
     "base_uri": "https://localhost:8080/"
    },
    "id": "Wf5fvxFh8uC6",
    "outputId": "e6eb5039-1604-4ebb-e8ff-23b770219724"
   },
   "outputs": [
    {
     "data": {
      "text/plain": [
       "TruncatedSVD(algorithm='randomized', n_components=45, n_iter=5, random_state=42,\n",
       "             tol=0.0)"
      ]
     },
     "execution_count": 29,
     "metadata": {},
     "output_type": "execute_result"
    }
   ],
   "source": [
    "svd = TruncatedSVD(random_state=42, n_components=45)\n",
    "svd.fit(df_descr_tfidf)"
   ]
  },
  {
   "cell_type": "code",
   "execution_count": 31,
   "metadata": {
    "colab": {
     "base_uri": "https://localhost:8080/",
     "height": 654
    },
    "id": "MiuRUSNWc5OO",
    "outputId": "6f376db5-1563-4a77-b41d-10886cfe6e51"
   },
   "outputs": [
    {
     "data": {
      "text/plain": [
       "([<matplotlib.axis.YTick at 0x7f335d9d1350>,\n",
       "  <matplotlib.axis.YTick at 0x7f33622b3b50>,\n",
       "  <matplotlib.axis.YTick at 0x7f3365802c10>,\n",
       "  <matplotlib.axis.YTick at 0x7f3368365e50>,\n",
       "  <matplotlib.axis.YTick at 0x7f335faa83d0>,\n",
       "  <matplotlib.axis.YTick at 0x7f335faa8910>,\n",
       "  <matplotlib.axis.YTick at 0x7f335faa8e90>,\n",
       "  <matplotlib.axis.YTick at 0x7f335faa8d50>,\n",
       "  <matplotlib.axis.YTick at 0x7f336ce4f3d0>,\n",
       "  <matplotlib.axis.YTick at 0x7f336ce4f890>,\n",
       "  <matplotlib.axis.YTick at 0x7f336ce4fd90>],\n",
       " <a list of 11 Text major ticklabel objects>)"
      ]
     },
     "execution_count": 31,
     "metadata": {},
     "output_type": "execute_result"
    },
    {
     "data": {
      "image/png": "[encoded data removed]",
      "text/plain": [
       "<Figure size 720x504 with 1 Axes>"
      ]
     },
     "metadata": {
      "needs_background": "light"
     },
     "output_type": "display_data"
    }
   ],
   "source": [
    "plt.figure(figsize=(10,7))\n",
    "plt.plot(np.cumsum(svd.explained_variance_ratio_), color='k', lw=2)\n",
    "plt.xlabel('Number of components')\n",
    "plt.ylabel('Total explained variance')\n",
    "plt.xlim(0, 200)\n",
    "plt.yticks(np.arange(0, 1.1, 0.1))"
   ]
  },
  {
   "cell_type": "code",
   "execution_count": 32,
   "metadata": {
    "id": "mVvNxee480Do"
   },
   "outputs": [],
   "source": [
    "df_descr_tfidf_svd = pd.DataFrame(svd.transform(df_descr_tfidf), index=df.index)"
   ]
  },
  {
   "cell_type": "code",
   "execution_count": 33,
   "metadata": {
    "id": "NX5-S0Yg9BVd"
   },
   "outputs": [],
   "source": [
    "X = pd.concat([df, df_descr_tfidf_svd], axis=1)"
   ]
  },
  {
   "cell_type": "code",
   "execution_count": 34,
   "metadata": {
    "colab": {
     "base_uri": "https://localhost:8080/"
    },
    "id": "5Y6LTDQZc5E5",
    "outputId": "da9bd4a0-5695-48b7-fba4-d0b02f63052a"
   },
   "outputs": [
    {
     "name": "stdout",
     "output_type": "stream",
     "text": [
      "CPU times: user 29min 17s, sys: 13.6 s, total: 29min 30s\n",
      "Wall time: 15min 6s\n"
     ]
    }
   ],
   "source": [
    "%%time\n",
    "i = 12\n",
    "lgm = LGBMClassifier(random_state=42, n_jobs=-1, n_estimators=700, max_depth=i, num_leaves=2**i, boosting_type='gbdt', learning_rate=0.125)\n",
    "lgm.fit(X.drop(['description', 'is_bad'], axis=1), X['is_bad'])#, sample_weight=X_weights)"
   ]
  },
  {
   "cell_type": "code",
   "execution_count": 36,
   "metadata": {
    "id": "2M5xEPVF-hhU"
   },
   "outputs": [],
   "source": [
    "test_df = pd.read_csv('val.csv')\n",
    "test_df.dropna(inplace=True)"
   ]
  },
  {
   "cell_type": "code",
   "execution_count": 37,
   "metadata": {
    "colab": {
     "base_uri": "https://localhost:8080/"
    },
    "id": "EnHy2Nlh-zh9",
    "outputId": "3c4a794f-3069-46b0-c131-00788c5f4959"
   },
   "outputs": [
    {
     "name": "stderr",
     "output_type": "stream",
     "text": [
      "/usr/local/lib/python3.7/dist-packages/pandas/core/strings.py:2001: UserWarning: This pattern has match groups. To actually get the groups, use str.extract.\n",
      "  return func(self, *args, **kwargs)\n"
     ]
    }
   ],
   "source": [
    "# test_df = test_df.pipe(create_features_and_preproc)\n",
    "test_df = test_df.pipe(preprocessing)"
   ]
  },
  {
   "cell_type": "code",
   "execution_count": 38,
   "metadata": {
    "id": "DTIfGHcIjSf3"
   },
   "outputs": [],
   "source": [
    "# test_df[['category', 'subcategory', 'region', 'city']] = ordinal_enc.transform(test_df[['category', 'subcategory', 'region', 'city']])\n",
    "test_df[['category', 'subcategory']] = ordinal_enc.transform(test_df[['category', 'subcategory']])"
   ]
  },
  {
   "cell_type": "code",
   "execution_count": 39,
   "metadata": {
    "id": "PcTPQutO_F6V"
   },
   "outputs": [],
   "source": [
    "descr_test_tfidf = tf_vectorizer.transform(test_df.description)"
   ]
  },
  {
   "cell_type": "code",
   "execution_count": 40,
   "metadata": {
    "id": "cx8rCoH7CUA2"
   },
   "outputs": [],
   "source": [
    "descr_test_tfidf_svd = pd.DataFrame(svd.transform(descr_test_tfidf), index=test_df.index)"
   ]
  },
  {
   "cell_type": "code",
   "execution_count": 41,
   "metadata": {
    "id": "cO_m6OC6CigE"
   },
   "outputs": [],
   "source": [
    "X_test = pd.concat([test_df, descr_test_tfidf_svd], axis=1)"
   ]
  },
  {
   "cell_type": "code",
   "execution_count": 42,
   "metadata": {
    "id": "3HEi3HNjC8gU"
   },
   "outputs": [],
   "source": [
    "cats = np.unique(X_test.category.values)"
   ]
  },
  {
   "cell_type": "code",
   "execution_count": 44,
   "metadata": {
    "colab": {
     "base_uri": "https://localhost:8080/"
    },
    "id": "Wpg9xTKMAFPw",
    "outputId": "032f215a-96b8-4412-b94d-7676d580d95d"
   },
   "outputs": [
    {
     "name": "stdout",
     "output_type": "stream",
     "text": [
      "0.0 0.9227284036624204\n",
      "1.0 0.8914810887239307\n",
      "2.0 0.9276053702617874\n",
      "3.0 0.9420479302832244\n",
      "4.0 0.8538199545391425\n",
      "5.0 0.9343241855052111\n",
      "6.0 0.8719327402483136\n",
      "7.0 0.9814575250125701\n",
      "8.0 0.8729497594039427\n",
      "9.0 0.9262551440329218\n",
      "mean 0.9124602101673466\n"
     ]
    }
   ],
   "source": [
    "roc = []\n",
    "for cat in cats:\n",
    "    tmp = X_test[X_test.category == cat]\n",
    "    x = tmp.drop(['description', 'is_bad'], axis=1)\n",
    "    y = tmp.is_bad\n",
    "    score = roc_auc_score(y, lgm.predict_proba(x)[:,1])\n",
    "    roc.append(score)\n",
    "    print(cat, score)\n",
    "\n",
    "print('mean', sum(roc)/len(roc))"
   ]
  },
  {
   "cell_type": "code",
   "execution_count": 45,
   "metadata": {
    "colab": {
     "base_uri": "https://localhost:8080/",
     "height": 729
    },
    "id": "FZY2YthfmNrS",
    "outputId": "f3115a13-8339-4ac1-c6af-4e2a9b5a40f5"
   },
   "outputs": [
    {
     "data": {
      "image/png": "[encoded data removed]",
      "text/plain": [
       "<Figure size 1440x720 with 1 Axes>"
      ]
     },
     "metadata": {
      "needs_background": "light"
     },
     "output_type": "display_data"
    }
   ],
   "source": [
    "import seaborn as sns\n",
    "feature_imp = pd.DataFrame(\n",
    "    sorted(\n",
    "        zip(\n",
    "            lgm.feature_importances_, X.drop(['description', 'is_bad'], axis=1).columns\n",
    "            )\n",
    "        ), columns=['Value','Feature']\n",
    "        )\n",
    "\n",
    "plt.figure(figsize=(20, 10))\n",
    "sns.barplot(x=\"Value\", y=\"Feature\", data=feature_imp.sort_values(by=\"Value\", ascending=False))\n",
    "plt.title('LightGBM Features (avg over folds)')\n",
    "plt.tight_layout()"
   ]
  },
  {
   "cell_type": "markdown",
   "metadata": {
    "id": "7KtY0dHXnK8X"
   },
   "source": [
    "### Результат на валидации (среднее по категориям): 0.912460"
   ]
  }
 ],
 "metadata": {
  "colab": {
   "collapsed_sections": [],
   "name": "Avito.ipynb",
   "provenance": []
  },
  "kernelspec": {
   "display_name": "Python 3",
   "language": "python",
   "name": "python3"
  },
  "language_info": {
   "codemirror_mode": {
    "name": "ipython",
    "version": 3
   },
   "file_extension": ".py",
   "mimetype": "text/x-python",
   "name": "python",
   "nbconvert_exporter": "python",
   "pygments_lexer": "ipython3",
   "version": "3.8.5"
  }
 },
 "nbformat": 4,
 "nbformat_minor": 1
}
